{
 "cells": [
  {
   "cell_type": "code",
   "execution_count": 1,
   "metadata": {},
   "outputs": [],
   "source": [
    "import bs4\n",
    "import json\n",
    "import requests as rq\n",
    "from selenium import webdriver\n",
    "from selenium.webdriver.common.keys import Keys\n",
    "import re\n",
    "from datetime import datetime\n",
    "import json\n",
    "import time"
   ]
  },
  {
   "cell_type": "code",
   "execution_count": 2,
   "metadata": {},
   "outputs": [],
   "source": [
    "\n",
    "#for today date\n",
    "def today():\n",
    "    return datetime.today().strftime('%Y-%m-%d')\n",
    "#for now time\n",
    "def now_time():\n",
    "    return time.strftime(\"%H:%M:%S\", time.localtime(time.time()))\n",
    "\n",
    "#for getting kakao auth token\n",
    "def kakao_connect(access_token):\n",
    "\n",
    "    kakao_url=\"https://kauth.kakao.com/oauth/token\"\n",
    "\n",
    "    data={\n",
    "        \"grant_type\" : \"authorization_code\",\n",
    "        \"client_id\" : \"62f53fd06d840ed70de64e7337840e6b\",\n",
    "        \"redirect_url\" : \"https://localhost.com\",\n",
    "        \"code\" : access_token\n",
    "    }\n",
    "    response=rq.post(kakao_url,data=data)\n",
    "    tokens=response.json()\n",
    "    with open(\"kakao_token.json\", \"w\") as fp:\n",
    "        json.dump(tokens, fp)\n",
    "\n",
    "\n",
    "#for getting URL\n",
    "def driver():\n",
    "    my_driver=webdriver.Chrome('chromedriver.exe')\n",
    "    my_driver.get(\"http://consensus.hankyung.com/apps.analysis/analysis.list\")\n",
    "    return my_driver\n",
    "\n",
    "\n",
    "#for activating Driver_URL\n",
    "def driver_active(keywords): \n",
    "    date=[]\n",
    "    hrink=[]\n",
    "    title=[]\n",
    "    my_driver=driver()\n",
    "    for keyword in keywords:\n",
    "        search=my_driver.find_element_by_id('search_text')\n",
    "        search.send_keys(keyword)\n",
    "        search.send_keys(Keys.ENTER)\n",
    "        dates=[x.text for x in my_driver.find_elements_by_css_selector('td.first.txt_number')]\n",
    "        hrinks=[x.get_attribute('href') for x in my_driver.find_elements_by_css_selector('div.dv_input>a')]\n",
    "        titles=[x.text for x in my_driver.find_elements_by_css_selector('td.text_l')]\n",
    "        date.append(dates)\n",
    "        hrink.append(hrinks)\n",
    "        title.append(titles)\n",
    "        my_driver.back()\n",
    "        time.sleep(3)\n",
    "    return {'dates':date,'hrinks':hrink,'titles':title}\n",
    "\n",
    "\n",
    "#for getting fitted today data\n",
    "def get_customized_info(dictionary):\n",
    "    url=[]\n",
    "    title=[]\n",
    "    for i in range(len(dictionary['dates'])):\n",
    "        for j in range(len(dictionary['dates'][i])):\n",
    "            if  dictionary['dates'][i][j]==today():\n",
    "                url.append(dictionary['hrinks'][i][j])\n",
    "                title.append(re.sub(r'[|\\?*<:>/.]','',dictionary['titles'][i][j]))\n",
    "    return {'url':url,'title':title}\n",
    "\n",
    "#sending to kakao for text\n",
    "def send_to_kakao(text):  \n",
    "    kakao_host=\"https://kapi.kakao.com/v2/api/talk/memo/default/send\"\n",
    "    headers = {\"Authorization\" : \"Bearer \"+tokens['access_token']}\n",
    "    post={\"object_type\" : \"text\",\n",
    "          \"text\" : text,\n",
    "          \"link\" : {\"web_url\" : \"http://consensus.hankyung.com/apps.analysis/analysis.list\",\"mobile_web_url\" : \"http://consensus.hankyung.com/apps.analysis/analysis.list\"}\n",
    "          }\n",
    "    data = {\"template_object\" : json.dumps(post)}\n",
    "    \n",
    "    return rq.post(kakao_host,headers=headers,data=data)\n",
    "\n",
    "\n",
    "#sending data to my mobile kakao\n",
    "def sending(tag,send_list):\n",
    "    rink=tag['url']\n",
    "    title=tag['title']\n",
    "    for i in range(len(rink)):\n",
    "        if (title[i] in send_list):\n",
    "            print(\"보낸적 있음\")\n",
    "            continue\n",
    "        else:\n",
    "            send_to_kakao(title[i] +'\\n'+ rink[i])\n",
    "            send_list.append(title[i])\n",
    "            time.sleep(5)\n",
    "    return send_list"
   ]
  },
  {
   "cell_type": "code",
   "execution_count": 3,
   "metadata": {},
   "outputs": [],
   "source": [
    "#access_token='9_s6QqcshppbC7uvARnX3zpHmuqNLBL8ZLT35jGcD5UBWgTteOeple0-vfejNt3WpQGdRQopb9UAAAFzk0bpSA'\n",
    "with open(\"kakao_token.json\", \"r\") as fp:\n",
    "    tokens=json.load(fp)"
   ]
  },
  {
   "cell_type": "code",
   "execution_count": 4,
   "metadata": {},
   "outputs": [
    {
     "data": {
      "text/plain": [
       "['삼성물산(028260)우려대비 선방',\n",
       " '반도체-Meritz Overnight Tech',\n",
       " '반도체-TSMC, 인텔로부터 6nm 위탁생산 주문 수주']"
      ]
     },
     "execution_count": 4,
     "metadata": {},
     "output_type": "execute_result"
    }
   ],
   "source": [
    "keywords=['삼성','반도체']\n",
    "send_list=[]\n",
    "info=driver_active(keywords)\n",
    "tag=get_customized_info(info)\n",
    "sending(tag,send_list)"
   ]
  },
  {
   "cell_type": "code",
   "execution_count": null,
   "metadata": {},
   "outputs": [],
   "source": [
    "sending(tag,send_list)"
   ]
  },
  {
   "cell_type": "code",
   "execution_count": null,
   "metadata": {
    "scrolled": true
   },
   "outputs": [],
   "source": [
    "#send_list=[]\n",
    "# now=now_time()\n",
    "# value = time.strftime(\"09:20:00\")\n",
    "# close = time.strftime(\"12:00:00\")\n",
    "# while value == now:\n",
    "#         while True:\n",
    "#             keywords=['sk','samsung']\n",
    "#             info=driver_active(keywords)\n",
    "#             tag=get_customized_info(info)\n",
    "#             sending(tag,send_list)\n",
    "#             time.sleep(60*10)\n",
    "#             if now_time==close:\n",
    "#                 break"
   ]
  },
  {
   "cell_type": "code",
   "execution_count": null,
   "metadata": {},
   "outputs": [],
   "source": []
  }
 ],
 "metadata": {
  "kernelspec": {
   "display_name": "Python 3",
   "language": "python",
   "name": "python3"
  },
  "language_info": {
   "codemirror_mode": {
    "name": "ipython",
    "version": 3
   },
   "file_extension": ".py",
   "mimetype": "text/x-python",
   "name": "python",
   "nbconvert_exporter": "python",
   "pygments_lexer": "ipython3",
   "version": "3.7.6"
  }
 },
 "nbformat": 4,
 "nbformat_minor": 4
}
